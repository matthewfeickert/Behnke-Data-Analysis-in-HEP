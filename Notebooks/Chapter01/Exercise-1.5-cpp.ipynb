{
 "cells": [
  {
   "cell_type": "markdown",
   "metadata": {},
   "source": [
    "# **Data Analysis in High Energy Physics: Exercise 1.5 $p$-values**"
   ]
  },
  {
   "cell_type": "markdown",
   "metadata": {},
   "source": [
    "**Find the number of standard deviations corresponding to $p$-values of 10%, 5%, and 1% for a Gaussian distribution. Consider both one-sided and two-sided $p$-values.**"
   ]
  },
  {
   "cell_type": "markdown",
   "metadata": {},
   "source": [
    "**Reminder:** The error function is defined as the symmetric integral over the range of the standard Gaussian,  \n",
    "$\\displaystyle \\text{erf}(x) = \\frac{1}{\\sqrt{\\pi}} \\int\\limits_{-x}^{x}e^{-t^2}\\,dt = \\frac{2}{\\sqrt{\\pi}} \\int\\limits_{0}^{x}e^{-t^2}\\,dt\\,,$  \n",
    "and so the probability for Gaussian distributed data to lie within $y$ of the mean is  \n",
    "$\\displaystyle P(\\mu - y \\leq x \\leq \\mu + y) = \\int\\limits_{\\mu - y}^{\\mu + y} \\frac{1}{\\sqrt{2\\pi} \\sigma} e^{-(x-\\mu)^2/2\\sigma^2}\\,dx = \\frac{2}{\\sqrt{\\pi}} \\int\\limits_{0}^{y/\\sqrt{2}\\sigma} e^{-t^2}\\,dt = \\text{erf}\\left(\\frac{y}{\\sqrt{2}\\sigma}\\right)\\,.$"
   ]
  },
  {
   "cell_type": "code",
   "execution_count": 1,
   "metadata": {
    "collapsed": false
   },
   "outputs": [],
   "source": [
    "TCanvas c;\n",
    "TF1 f1;\n",
    "std::vector<double> pvalues = {0.10, 0.05, 0.01};\n",
    "double mu, sigma;"
   ]
  },
  {
   "cell_type": "markdown",
   "metadata": {},
   "source": [
    "## Two-tailed $p$-value"
   ]
  },
  {
   "cell_type": "markdown",
   "metadata": {},
   "source": [
    "As for the two-tailed Gaussian,  \n",
    "$\\displaystyle p(x) = P(\\left|X\\right| \\geq x) = 1-\\text{erf}\\left(\\frac{x}{\\sqrt{2}\\sigma}\\right) \\equiv \\text{erfc}\\left(\\frac{x}{\\sqrt{2}\\sigma}\\right)$,  \n",
    "it is seen that for $x=n \\sigma$, then"
   ]
  },
  {
   "cell_type": "markdown",
   "metadata": {},
   "source": [
    "$\\displaystyle p(n \\sigma) = P(\\left|X\\right| \\geq n \\sigma) = 1-\\text{erf}\\left(\\frac{n}{\\sqrt{2}}\\right)$,"
   ]
  },
  {
   "cell_type": "markdown",
   "metadata": {},
   "source": [
    "thus,"
   ]
  },
  {
   "cell_type": "markdown",
   "metadata": {},
   "source": [
    "$\\displaystyle \\text{erf}\\left(\\frac{n}{\\sqrt{2}}\\right) = 1 - p(n \\sigma)$."
   ]
  },
  {
   "cell_type": "code",
   "execution_count": 2,
   "metadata": {
    "collapsed": false
   },
   "outputs": [
    {
     "data": {
      "image/png": "[encoded data removed]",
      "text/plain": [
       "<IPython.core.display.Image object>"
      ]
     },
     "metadata": {},
     "output_type": "display_data"
    }
   ],
   "source": [
    "c.cd();\n",
    "f1 = TF1(\"f1\",\"TMath::Gaus(x,[0],[1],kTRUE)\",-5,5);\n",
    "mu = 0.;\n",
    "sigma = 1.0;\n",
    "f1.SetParameters(mu,sigma);\n",
    "f1.SetLineColor(kBlack);\n",
    "f1.Draw();\n",
    "\n",
    "// THIS NEEDS TO BE EDITED AND TURNED INTO A FUNCTION\n",
    "   const Int_t np = 100;\n",
    "   //fill area below sub-range of the Gaussian\n",
    "   Double_t x[np+3], y[np+3];\n",
    "   Double_t xmin = -5; Double_t xmax = -1;\n",
    "   Double_t dx = (xmax-xmin)/(np-1);\n",
    "   for (Int_t i=0;i<np;i++) {\n",
    "      x[i] = xmin + dx*i;\n",
    "      y[i] = f1.Eval(x[i]);\n",
    "   }\n",
    "   x[np]   = x[np-1]; y[np]   = c.GetUymin();\n",
    "   x[np+1] = x[0];    y[np+1] = y[np];\n",
    "   x[np+2] = x[0];    y[np+2] = y[0];\n",
    "   TGraph *gr = new TGraph(np+3,x,y);\n",
    "   gr->SetFillColor(kRed);\n",
    "   gr->Draw(\"LF\");\n",
    "\n",
    "c.cd();\n",
    "c.Draw();"
   ]
  },
  {
   "cell_type": "markdown",
   "metadata": {},
   "source": [
    "However, at this point we are at an impass analytically, as the integral of a Gaussian function over a finite range has no analytical solution, and must be evaluated numerically.  \n",
    "  \n",
    "So using erfc,"
   ]
  },
  {
   "cell_type": "code",
   "execution_count": 3,
   "metadata": {
    "collapsed": false
   },
   "outputs": [
    {
     "name": "stdout",
     "output_type": "stream",
     "text": [
      "1.64485 standard deviations corresponds to a p-value of 0.1\n",
      "1.95996 standard deviations corresponds to a p-value of 0.05\n",
      "2.57583 standard deviations corresponds to a p-value of 0.01\n"
     ]
    }
   ],
   "source": [
    "for(const double &p : pvalues){\n",
    "    double n = TMath::Sqrt(2.)*TMath::ErfcInverse(p);\n",
    "    std::cout << n << \" standard deviations corresponds to a p-value of \" << p << std::endl;\n",
    "}"
   ]
  },
  {
   "cell_type": "markdown",
   "metadata": {},
   "source": [
    "and using erf,"
   ]
  },
  {
   "cell_type": "code",
   "execution_count": 4,
   "metadata": {
    "collapsed": false
   },
   "outputs": [
    {
     "name": "stdout",
     "output_type": "stream",
     "text": [
      "1.64485 standard deviations corresponds to a p-value of 0.1\n",
      "1.95996 standard deviations corresponds to a p-value of 0.05\n",
      "2.57583 standard deviations corresponds to a p-value of 0.01\n"
     ]
    }
   ],
   "source": [
    "for(const double &p : pvalues){\n",
    "    double n = TMath::Sqrt(2.)*TMath::ErfInverse(1-p);\n",
    "    std::cout << n << \" standard deviations corresponds to a p-value of \" << p << std::endl;\n",
    "}"
   ]
  },
  {
   "cell_type": "markdown",
   "metadata": {},
   "source": [
    "the same output is found (as required by the defintion of the functions)."
   ]
  },
  {
   "cell_type": "markdown",
   "metadata": {},
   "source": [
    "## One-tailed $p$-value"
   ]
  },
  {
   "cell_type": "markdown",
   "metadata": {},
   "source": [
    "A one-sided *p*-value considers the probability for the data to have produced a value as extreme or grearer than the observed value on only one side of the distribution. For example, the *p*-value for the right tail of a Gaussian is $p(x) = \\displaystyle P\\left(X \\geq x\\right) = 1-\\Phi(x)$, and the *p*-value for the left tail of a Gaussian is $p(-x) = \\displaystyle P\\left(X \\leq -x\\right) = \\Phi(-x)$.  \n",
    "\n",
    "It is seen by symmetry $p(x) = p(-x)$ and that for a normalized Gaussian a one-tailed *p*-vaule is 1/2 that of a two-tailed *p*-value."
   ]
  },
  {
   "cell_type": "markdown",
   "metadata": {},
   "source": [
    "\\begin{split}\n",
    "    p(x) = P\\left(X \\geq \\left|x\\right|\\right)&= 1 - \\frac{1}{\\sqrt{2\\pi}}\\int\\limits_{-\\infty}^{x} e^{-t^2/2}\\,dt = 1 - \\frac{1}{2}\\left(1+\\text{erf}\\left(\\frac{x}{\\sqrt{2}}\\right)\\right)\\\\\n",
    "    &= 1-\\Phi(x)\\\\\n",
    "    &= \\frac{1}{2}\\left(1-\\text{erf}\\left(\\frac{x}{\\sqrt{2}}\\right)\\right) = \\frac{1}{2}\\text{erfc}\\left(\\frac{x}{\\sqrt{2}}\\right)\n",
    "\\end{split}"
   ]
  },
  {
   "cell_type": "markdown",
   "metadata": {},
   "source": [
    "thus for $x = n \\sigma$,"
   ]
  },
  {
   "cell_type": "markdown",
   "metadata": {},
   "source": [
    "$\\displaystyle \\text{erf}\\left(\\frac{n\\sigma}{\\sqrt{2}}\\right) = 1 - 2\\,p(n \\sigma)$."
   ]
  },
  {
   "cell_type": "code",
   "execution_count": 5,
   "metadata": {
    "collapsed": false
   },
   "outputs": [
    {
     "name": "stdout",
     "output_type": "stream",
     "text": [
      "1.28155 standard deviations corresponds to a p-value of 0.1\n",
      "1.64485 standard deviations corresponds to a p-value of 0.05\n",
      "2.32635 standard deviations corresponds to a p-value of 0.01\n",
      "\n",
      "1.28155 standard deviations corresponds to a p-value of 0.1\n",
      "1.64485 standard deviations corresponds to a p-value of 0.05\n",
      "2.32635 standard deviations corresponds to a p-value of 0.01\n"
     ]
    }
   ],
   "source": [
    "sigma = 1.;\n",
    "\n",
    "for(const double &p : pvalues){\n",
    "    double n = (TMath::Sqrt(2.)/sigma)*TMath::ErfcInverse(2*p);\n",
    "    std::cout << n << \" standard deviations corresponds to a p-value of \" << p << std::endl;\n",
    "}\n",
    "\n",
    "std::cout << std::endl;\n",
    "\n",
    "for(const double &p : pvalues){\n",
    "    double n = (TMath::Sqrt(2.)/sigma)*TMath::ErfInverse(1-2*p);\n",
    "    std::cout << n << \" standard deviations corresponds to a p-value of \" << p << std::endl;\n",
    "}"
   ]
  },
  {
   "cell_type": "markdown",
   "metadata": {},
   "source": [
    "## Summary"
   ]
  },
  {
   "cell_type": "code",
   "execution_count": 6,
   "metadata": {
    "collapsed": false
   },
   "outputs": [
    {
     "name": "stdout",
     "output_type": "stream",
     "text": [
      "+-------+--------------------+--------------------+\n",
      "p-value\t  n sigma two-tailed\tn sigma one-tailed\n",
      "+-------+--------------------+--------------------+\n",
      "0.1\t\t1.64485\t\t 1.28155\n",
      "+-------+--------------------+--------------------+\n",
      "0.05\t\t1.95996\t\t 1.64485\n",
      "+-------+--------------------+--------------------+\n",
      "0.01\t\t2.57583\t\t 2.32635\n",
      "+-------+--------------------+--------------------+\n"
     ]
    }
   ],
   "source": [
    "cout << setfill('-') << setw(1) << \"+\" << setw(7) << \"-\" << setw(1) << \"+\" << setw(20) << \"-\" << setw(1) << \"+\" << setw(20) << \"-\" << setw(1) << \"+\" << endl;\n",
    "std::cout << \"p-value\" << \"\\t  \" << \"n sigma two-tailed\" << \"\\t\" << \"n sigma one-tailed\" << std::endl;\n",
    "cout << setfill('-') << setw(1) << \"+\" << setw(7) << \"-\" << setw(1) << \"+\" << setw(20) << \"-\" << setw(1) << \"+\" << setw(20) << \"-\" << setw(1) << \"+\" << endl;\n",
    "for(const double &p : pvalues){\n",
    "    std::cout << p << \"\\t\\t\" << TMath::Sqrt(2.)*TMath::ErfcInverse(p);\n",
    "    std::cout << \"\\t\\t \" << (TMath::Sqrt(2.)/sigma)*TMath::ErfcInverse(2*p);\n",
    "    std::cout << std::endl;\n",
    "    cout << setfill('-') << setw(1) << \"+\" << setw(7) << \"-\" << setw(1) << \"+\" << setw(20) << \"-\" << setw(1) << \"+\" << setw(20) << \"-\" << setw(1) << \"+\" << endl;\n",
    "}"
   ]
  },
  {
   "cell_type": "markdown",
   "metadata": {},
   "source": [
    "### Sanity Check"
   ]
  },
  {
   "cell_type": "code",
   "execution_count": 7,
   "metadata": {
    "collapsed": true
   },
   "outputs": [],
   "source": [
    "std::vector<double> checkvalues = {0.317310507863, 0.045500263896, 0.002699796063, 0.000063342484, 0.000000573303};"
   ]
  },
  {
   "cell_type": "code",
   "execution_count": 8,
   "metadata": {
    "collapsed": false
   },
   "outputs": [
    {
     "name": "stdout",
     "output_type": "stream",
     "text": [
      "1 standard deviations corresponds to a p-value of 0.317311\n",
      "2 standard deviations corresponds to a p-value of 0.0455003\n",
      "3 standard deviations corresponds to a p-value of 0.0026998\n",
      "4 standard deviations corresponds to a p-value of 6.33425e-05\n",
      "5 standard deviations corresponds to a p-value of 5.73303e-07\n"
     ]
    }
   ],
   "source": [
    "for(const double &p : checkvalues){\n",
    "    double n = TMath::Sqrt(2.)*TMath::ErfcInverse(p);\n",
    "    std::cout << n << \" standard deviations corresponds to a p-value of \" << p << std::endl;\n",
    "}"
   ]
  },
  {
   "cell_type": "markdown",
   "metadata": {},
   "source": [
    "$\\checkmark$"
   ]
  },
  {
   "cell_type": "markdown",
   "metadata": {},
   "source": [
    "## References"
   ]
  },
  {
   "cell_type": "markdown",
   "metadata": {},
   "source": [
    "1.) FAQ: What are the differences between one-tailed and two-tailed tests?  \n",
    "UCLA: Institute for Digital Research and Education.  \n",
    "from http://www.ats.ucla.edu/stat/mult_pkg/faq/general/tail_tests.htm"
   ]
  }
 ],
 "metadata": {
  "kernelspec": {
   "display_name": "ROOT C++",
   "language": "c++",
   "name": "root"
  },
  "language_info": {
   "codemirror_mode": "text/x-c++src",
   "file_extension": ".C",
   "mimetype": " text/x-c++src",
   "name": "c++"
  }
 },
 "nbformat": 4,
 "nbformat_minor": 0
}
