{
 "cells": [
  {
   "cell_type": "markdown",
   "metadata": {},
   "source": [
    "# **Data Analysis in High Energy Physics: Exercise 1.5 $p$-values**"
   ]
  },
  {
   "cell_type": "markdown",
   "metadata": {},
   "source": [
    "**Find the number of standard deviations corresponding to $p$-values of 10%, 5%, and 1% for a Gaussian distribution. Consider both one-sided and two-sided $p$-values.**"
   ]
  },
  {
   "cell_type": "markdown",
   "metadata": {},
   "source": [
    "As for the two-tailed Gaussian,"
   ]
  },
  {
   "cell_type": "markdown",
   "metadata": {},
   "source": [
    "$\\displaystyle p(x) = P(\\left|X\\right| \\geq x) = 1-\\text{erf}\\left(\\frac{x}{\\sqrt{2}\\sigma}\\right) \\equiv \\text{erfc}\\left(\\frac{x}{\\sqrt{2}\\sigma}\\right)$,"
   ]
  },
  {
   "cell_type": "markdown",
   "metadata": {},
   "source": [
    "it is seen that for $x=n \\sigma$, then"
   ]
  },
  {
   "cell_type": "markdown",
   "metadata": {},
   "source": [
    "$\\displaystyle p(n \\sigma) = P(\\left|X\\right| \\geq n \\sigma) = 1-\\text{erf}\\left(\\frac{n}{\\sqrt{2}}\\right)$,"
   ]
  },
  {
   "cell_type": "markdown",
   "metadata": {},
   "source": [
    "thus,"
   ]
  },
  {
   "cell_type": "markdown",
   "metadata": {},
   "source": [
    "$\\displaystyle \\text{erf}\\left(\\frac{n}{\\sqrt{2}}\\right) = 1 - p(n \\sigma)$."
   ]
  },
  {
   "cell_type": "markdown",
   "metadata": {},
   "source": [
    "However, at this point we are at an impass analytically, as a Gaussian integral evaluated at bounds that are not $\\pm \\infty$ has no analytic solution, and must be evaluated numerically."
   ]
  },
  {
   "cell_type": "code",
   "execution_count": null,
   "metadata": {
    "collapsed": false
   },
   "outputs": [],
   "source": [
    "double pvalues[3]={0.10, 0.05, 0.01};\n",
    "double sigma;"
   ]
  },
  {
   "cell_type": "markdown",
   "metadata": {},
   "source": [
    "So using erfc,"
   ]
  },
  {
   "cell_type": "code",
   "execution_count": null,
   "metadata": {
    "collapsed": false
   },
   "outputs": [],
   "source": [
    "for(const double &p : pvalues){\n",
    "    double n = TMath::Sqrt(2.)*TMath::ErfcInverse(p);\n",
    "    std::cout << n << \" standard deviations corresponds to a p-value of \" << p << std::endl;\n",
    "}"
   ]
  },
  {
   "cell_type": "markdown",
   "metadata": {},
   "source": [
    "and using erf,"
   ]
  },
  {
   "cell_type": "code",
   "execution_count": null,
   "metadata": {
    "collapsed": false
   },
   "outputs": [],
   "source": [
    "for(const double &p : pvalues){\n",
    "    double n = TMath::Sqrt(2.)*TMath::ErfInverse(1-p);\n",
    "    std::cout << n << \" standard deviations corresponds to a p-value of \" << p << std::endl;\n",
    "}"
   ]
  },
  {
   "cell_type": "markdown",
   "metadata": {},
   "source": [
    "the same output is found (as required by the defintion of the functions)."
   ]
  },
  {
   "cell_type": "markdown",
   "metadata": {},
   "source": [
    "As a one-sided $p$-value considers the probability for the data to have produced as of an exterme value\n",
    "on only one side of the distribution---$\\displaystyle P\\left(X \\geq x\\right)$ for the right tail, or $\\displaystyle P\\left(X \\leq x\\right)$ for the left tail---it is seen that for a normalized Gaussian a one-tailed $p$-vaule is $1/2$ that of a two-tailed $p$-value.?????"
   ]
  },
  {
   "cell_type": "markdown",
   "metadata": {},
   "source": [
    "\\begin{split}\n",
    "    p(x) = P\\left(X \\geq \\left|x\\right|\\right)&= 1 - \\frac{1}{\\sqrt{2\\pi}}\\int\\limits_{-\\infty}^{x} e^{-t^2/2}\\,dt = 1 - \\frac{1}{2}\\left(1+\\text{erf}\\left(\\frac{x}{\\sqrt{2}}\\right)\\right)\\\\\n",
    "    &= 1-\\Phi(x)\\\\\n",
    "    &= \\frac{1}{2}\\left(1-\\text{erf}\\left(\\frac{x}{\\sqrt{2}}\\right)\\right) = \\frac{1}{2}\\text{erfc}\\left(\\frac{x}{\\sqrt{2}}\\right)\n",
    "\\end{split}"
   ]
  },
  {
   "cell_type": "markdown",
   "metadata": {},
   "source": [
    "thus for $x = n \\sigma$,"
   ]
  },
  {
   "cell_type": "markdown",
   "metadata": {},
   "source": [
    "$\\displaystyle \\text{erf}\\left(\\frac{n\\sigma}{\\sqrt{2}}\\right) = 1 - 2\\,p(n \\sigma)$."
   ]
  },
  {
   "cell_type": "code",
   "execution_count": null,
   "metadata": {
    "collapsed": false
   },
   "outputs": [],
   "source": [
    "sigma = 1.;\n",
    "\n",
    "for(const double &p : pvalues){\n",
    "    double n = (TMath::Sqrt(2.)/sigma)*TMath::ErfcInverse(2*p);\n",
    "    std::cout << n << \" standard deviations corresponds to a p-value of \" << p << std::endl;\n",
    "}\n",
    "\n",
    "std::cout << std::endl;\n",
    "\n",
    "for(const double &p : pvalues){\n",
    "    double n = (TMath::Sqrt(2.)/sigma)*TMath::ErfInverse(1-2*p);\n",
    "    std::cout << n << \" standard deviations corresponds to a p-value of \" << p << std::endl;\n",
    "}"
   ]
  },
  {
   "cell_type": "markdown",
   "metadata": {},
   "source": [
    "### Sanity Check"
   ]
  },
  {
   "cell_type": "code",
   "execution_count": null,
   "metadata": {
    "collapsed": true
   },
   "outputs": [],
   "source": [
    "double checkvalues[5]={0.317310507863, 0.045500263896, 0.002699796063, 0.000063342484, 0.000000573303};"
   ]
  },
  {
   "cell_type": "code",
   "execution_count": null,
   "metadata": {
    "collapsed": false
   },
   "outputs": [],
   "source": [
    "for(const double &p : checkvalues){\n",
    "    double n = TMath::Sqrt(2.)*TMath::ErfcInverse(p);\n",
    "    std::cout << n << \" standard deviations corresponds to a p-value of \" << p << std::endl;\n",
    "}"
   ]
  },
  {
   "cell_type": "markdown",
   "metadata": {},
   "source": [
    "$\\checkmark$"
   ]
  }
 ],
 "metadata": {
  "kernelspec": {
   "display_name": "ROOT C++",
   "language": "c++",
   "name": "root"
  },
  "language_info": {
   "codemirror_mode": "text/x-c++src",
   "file_extension": ".C",
   "mimetype": " text/x-c++src",
   "name": "c++"
  }
 },
 "nbformat": 4,
 "nbformat_minor": 0
}
