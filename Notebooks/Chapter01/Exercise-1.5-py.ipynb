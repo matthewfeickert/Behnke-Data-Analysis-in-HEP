{
 "cells": [
  {
   "cell_type": "markdown",
   "metadata": {},
   "source": [
    "# **Data Analysis in High Energy Physics: Exercise 1.5 $p$-values**"
   ]
  },
  {
   "cell_type": "markdown",
   "metadata": {},
   "source": [
    "**Find the number of standard deviations corresponding to $p$-values of 10%, 5%, and 1% for a Gaussian distribution. Consider both one-sided and two-sided $p$-values.**"
   ]
  },
  {
   "cell_type": "markdown",
   "metadata": {},
   "source": [
    "**Reminder:** The error function is defined as the symmetric integral over the range of the unit Gaussian,  \n",
    "$\\displaystyle \\text{erf}(x) = \\frac{1}{\\sqrt{\\pi}} \\int\\limits_{-x}^{x}e^{-t^2}\\,dt = \\frac{2}{\\sqrt{\\pi}} \\int\\limits_{0}^{x}e^{-t^2}\\,dt$"
   ]
  },
  {
   "cell_type": "code",
   "execution_count": 2,
   "metadata": {
    "collapsed": false
   },
   "outputs": [],
   "source": [
    "import math\n",
    "import numpy as np\n",
    "from scipy import special as special\n",
    "%matplotlib inline\n",
    "import matplotlib.pyplot as plt\n",
    "import matplotlib.mlab as mlab\n",
    "from prettytable import PrettyTable"
   ]
  },
  {
   "cell_type": "markdown",
   "metadata": {},
   "source": [
    "## Two-tailed $p$-value"
   ]
  },
  {
   "cell_type": "markdown",
   "metadata": {},
   "source": [
    "As for the two-tailed Gaussian,  \n",
    "$\\displaystyle p(x) = P(\\left|X\\right| \\geq x) = 1-\\text{erf}\\left(\\frac{x}{\\sqrt{2}\\sigma}\\right) \\equiv \\text{erfc}\\left(\\frac{x}{\\sqrt{2}\\sigma}\\right)$,  \n",
    "it is seen that for $x=n \\sigma$, then"
   ]
  },
  {
   "cell_type": "markdown",
   "metadata": {},
   "source": [
    "$\\displaystyle p(n \\sigma) = P(\\left|X\\right| \\geq n \\sigma) = 1-\\text{erf}\\left(\\frac{n}{\\sqrt{2}}\\right)$,"
   ]
  },
  {
   "cell_type": "markdown",
   "metadata": {},
   "source": [
    "thus,"
   ]
  },
  {
   "cell_type": "markdown",
   "metadata": {},
   "source": [
    "$\\displaystyle \\text{erf}\\left(\\frac{n}{\\sqrt{2}}\\right) = 1 - p(n \\sigma)$."
   ]
  },
  {
   "cell_type": "code",
   "execution_count": 3,
   "metadata": {
    "collapsed": false
   },
   "outputs": [
    {
     "data": {
      "image/png": "[encoded data removed]",
      "text/plain": [
       "<matplotlib.figure.Figure at 0x7f72a688e210>"
      ]
     },
     "metadata": {},
     "output_type": "display_data"
    }
   ],
   "source": [
    "mean = 0\n",
    "sigma = 1\n",
    "nsigma = 1\n",
    "x = np.linspace(-5,5,100)\n",
    "plt.plot(x,mlab.normpdf(x,mean,sigma),color='black')\n",
    "\n",
    "xlTail = np.linspace(-5,-nsigma)\n",
    "xrTail = np.linspace(nsigma,5)\n",
    "plt.fill_between(xlTail,0,mlab.normpdf(xlTail,mean,sigma),facecolor='red')\n",
    "plt.fill_between(xrTail,0,mlab.normpdf(xrTail,mean,sigma),facecolor='red')\n",
    "\n",
    "plt.show()"
   ]
  },
  {
   "cell_type": "markdown",
   "metadata": {},
   "source": [
    "However, at this point we are at an impass analytically, as the integral of a Gaussian function over a finite range has no analytical solution, and must be evaluated numerically.  \n",
    "  \n",
    "So using erfc,"
   ]
  },
  {
   "cell_type": "code",
   "execution_count": 4,
   "metadata": {
    "collapsed": false
   },
   "outputs": [
    {
     "name": "stdout",
     "output_type": "stream",
     "text": [
      "1.64485362695 standard deviations corresponds to a p-value of 0.1\n",
      "1.95996398454 standard deviations corresponds to a p-value of 0.05\n",
      "2.57582930355 standard deviations corresponds to a p-value of 0.01\n"
     ]
    }
   ],
   "source": [
    "pvalues = [0.10, 0.05, 0.01]\n",
    "\n",
    "for p in pvalues:\n",
    "    print(\"{} standard deviations corresponds to a p-value of {}\".format(math.sqrt(2.)*special.erfcinv(p),p))"
   ]
  },
  {
   "cell_type": "markdown",
   "metadata": {},
   "source": [
    "and using erf,"
   ]
  },
  {
   "cell_type": "code",
   "execution_count": 5,
   "metadata": {
    "collapsed": false
   },
   "outputs": [
    {
     "name": "stdout",
     "output_type": "stream",
     "text": [
      "1.64485362695 standard deviations corresponds to a p-value of 0.1\n",
      "1.95996398454 standard deviations corresponds to a p-value of 0.05\n",
      "2.57582930355 standard deviations corresponds to a p-value of 0.01\n"
     ]
    }
   ],
   "source": [
    "for p in pvalues:\n",
    "    print(\"{} standard deviations corresponds to a p-value of {}\".format(math.sqrt(2.)*special.erfinv(1-p),p))"
   ]
  },
  {
   "cell_type": "markdown",
   "metadata": {},
   "source": [
    "the same output is found (as required by the defintion of the functions)."
   ]
  },
  {
   "cell_type": "markdown",
   "metadata": {},
   "source": [
    "## One-tailed $p$-value"
   ]
  },
  {
   "cell_type": "markdown",
   "metadata": {},
   "source": [
    "A one-sided *p*-value considers the probability for the data to have produced a value as extreme or grearer than the observed value on only one side of the distribution. For example, the *p*-value for the right tail of a Gaussian is $p(x) = \\displaystyle P\\left(X \\geq x\\right) = 1-\\Phi(x)$, and the *p*-value for the left tail of a Gaussian is $p(-x) = \\displaystyle P\\left(X \\leq -x\\right) = \\Phi(-x)$.  \n",
    "\n",
    "It is seen by symmetry $p(x) = p(-x)$ and that for a normalized Gaussian a one-tailed *p*-vaule is 1/2 that of a two-tailed *p*-value."
   ]
  },
  {
   "cell_type": "markdown",
   "metadata": {},
   "source": [
    "\\begin{split}\n",
    "    p(x) = P\\left(X \\geq \\left|x\\right|\\right)&= 1 - \\frac{1}{\\sqrt{2\\pi}}\\int\\limits_{-\\infty}^{x} e^{-t^2/2}\\,dt = 1 - \\frac{1}{2}\\left(1+\\text{erf}\\left(\\frac{x}{\\sqrt{2}}\\right)\\right)\\\\\n",
    "    &= 1-\\Phi(x)\\\\\n",
    "    &= \\frac{1}{2}\\left(1-\\text{erf}\\left(\\frac{x}{\\sqrt{2}}\\right)\\right) = \\frac{1}{2}\\text{erfc}\\left(\\frac{x}{\\sqrt{2}}\\right)\n",
    "\\end{split}"
   ]
  },
  {
   "cell_type": "code",
   "execution_count": 6,
   "metadata": {
    "collapsed": false
   },
   "outputs": [
    {
     "data": {
      "image/png": "[encoded data removed]",
      "text/plain": [
       "<matplotlib.figure.Figure at 0x7f72a68bbd90>"
      ]
     },
     "metadata": {},
     "output_type": "display_data"
    }
   ],
   "source": [
    "plt.plot(x,mlab.normpdf(x,mean,sigma),color='black')\n",
    "plt.fill_between(xrTail,0,mlab.normpdf(xrTail,mean,sigma),facecolor='red')\n",
    "\n",
    "plt.show()"
   ]
  },
  {
   "cell_type": "markdown",
   "metadata": {},
   "source": [
    "thus for $x = n \\sigma$,"
   ]
  },
  {
   "cell_type": "markdown",
   "metadata": {},
   "source": [
    "$\\displaystyle \\text{erf}\\left(\\frac{n\\sigma}{\\sqrt{2}}\\right) = 1 - 2\\,p(n \\sigma)$."
   ]
  },
  {
   "cell_type": "code",
   "execution_count": 7,
   "metadata": {
    "collapsed": false
   },
   "outputs": [
    {
     "name": "stdout",
     "output_type": "stream",
     "text": [
      "1.28155156554 standard deviations corresponds to a p-value of 0.1\n",
      "1.64485362695 standard deviations corresponds to a p-value of 0.05\n",
      "2.32634787404 standard deviations corresponds to a p-value of 0.01\n",
      "\n",
      "1.28155156554 standard deviations corresponds to a p-value of 0.1\n",
      "1.64485362695 standard deviations corresponds to a p-value of 0.05\n",
      "2.32634787404 standard deviations corresponds to a p-value of 0.01\n"
     ]
    }
   ],
   "source": [
    "for p in pvalues:\n",
    "    print(\"{} standard deviations corresponds to a p-value of {}\".format((math.sqrt(2.)/sigma)*special.erfcinv(2*p),p))\n",
    "\n",
    "print(\"\")\n",
    "    \n",
    "for p in pvalues:    \n",
    "    print(\"{} standard deviations corresponds to a p-value of {}\".format((math.sqrt(2.)/sigma)*special.erfinv(1-2*p),p))"
   ]
  },
  {
   "cell_type": "markdown",
   "metadata": {},
   "source": [
    "## Summary"
   ]
  },
  {
   "cell_type": "code",
   "execution_count": 8,
   "metadata": {
    "collapsed": false
   },
   "outputs": [],
   "source": [
    "def nSigmaTwoTailed(p):\n",
    "    return math.sqrt(2.)*special.erfcinv(p)\n",
    "\n",
    "def nSigmaOneTailed(p, sigma):\n",
    "    return (math.sqrt(2.)/sigma)*special.erfcinv(2*p)"
   ]
  },
  {
   "cell_type": "code",
   "execution_count": 9,
   "metadata": {
    "collapsed": false
   },
   "outputs": [
    {
     "name": "stdout",
     "output_type": "stream",
     "text": [
      "+----------+------------------+------------------+\n",
      "| p-values | n sigma 2-tailed | n sigma 1-tailed |\n",
      "+----------+------------------+------------------+\n",
      "|   0.1    |  1.64485362695   |  1.28155156554   |\n",
      "|   0.05   |  1.95996398454   |  1.64485362695   |\n",
      "|   0.01   |  2.57582930355   |  2.32634787404   |\n",
      "+----------+------------------+------------------+\n"
     ]
    }
   ],
   "source": [
    "# this needs to be turned into a loop of some sort\n",
    "t = PrettyTable()\n",
    "t.field_names = [\"p-values\", \"n sigma 2-tailed\", \"n sigma 1-tailed\"]\n",
    "t.add_row([pvalues[0], nSigmaTwoTailed(pvalues[0]), nSigmaOneTailed(pvalues[0],sigma)])\n",
    "t.add_row([pvalues[1], nSigmaTwoTailed(pvalues[1]), nSigmaOneTailed(pvalues[1],sigma)])\n",
    "t.add_row([pvalues[2], nSigmaTwoTailed(pvalues[2]), nSigmaOneTailed(pvalues[2],sigma)])\n",
    "\n",
    "print(t)"
   ]
  },
  {
   "cell_type": "markdown",
   "metadata": {},
   "source": [
    "### Sanity Check"
   ]
  },
  {
   "cell_type": "code",
   "execution_count": 10,
   "metadata": {
    "collapsed": false
   },
   "outputs": [
    {
     "name": "stdout",
     "output_type": "stream",
     "text": [
      "1.000 standard deviations corresponds to a p-value of 0.317310507863\n",
      "2.000 standard deviations corresponds to a p-value of 0.045500263896\n",
      "3.000 standard deviations corresponds to a p-value of 0.002699796063\n",
      "4.000 standard deviations corresponds to a p-value of 6.3342484e-05\n",
      "5.000 standard deviations corresponds to a p-value of 5.73303e-07\n"
     ]
    }
   ],
   "source": [
    "checkvalues = [0.317310507863, 0.045500263896, 0.002699796063, 0.000063342484, 0.000000573303]\n",
    "\n",
    "for p in checkvalues:\n",
    "    print(\"{:0.3f} standard deviations corresponds to a p-value of {}\".format(nSigmaTwoTailed(p),p))"
   ]
  },
  {
   "cell_type": "markdown",
   "metadata": {},
   "source": [
    "$\\checkmark$"
   ]
  },
  {
   "cell_type": "markdown",
   "metadata": {},
   "source": [
    "## References"
   ]
  },
  {
   "cell_type": "markdown",
   "metadata": {},
   "source": [
    "1.) FAQ: What are the differences between one-tailed and two-tailed tests?  \n",
    "UCLA: Institute for Digital Research and Education.  \n",
    "from http://www.ats.ucla.edu/stat/mult_pkg/faq/general/tail_tests.htm"
   ]
  }
 ],
 "metadata": {
  "kernelspec": {
   "display_name": "Python 2",
   "language": "python",
   "name": "python2"
  },
  "language_info": {
   "codemirror_mode": {
    "name": "ipython",
    "version": 2
   },
   "file_extension": ".py",
   "mimetype": "text/x-python",
   "name": "python",
   "nbconvert_exporter": "python",
   "pygments_lexer": "ipython2",
   "version": "2.7.11"
  }
 },
 "nbformat": 4,
 "nbformat_minor": 0
}
