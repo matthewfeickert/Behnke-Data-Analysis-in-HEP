{
 "cells": [
  {
   "cell_type": "markdown",
   "metadata": {},
   "source": [
    "# **Data Analysis in High Energy Physics: Exercise 1.5 $p$-values**"
   ]
  },
  {
   "cell_type": "markdown",
   "metadata": {},
   "source": [
    "**Find the number of standard deviations corresponding to $p$-values of 10%, 5%, and 1% for a Gaussian distribution. Consider both one-sided and two-sided $p$-values.**"
   ]
  },
  {
   "cell_type": "code",
   "execution_count": null,
   "metadata": {
    "collapsed": false
   },
   "outputs": [],
   "source": [
    "%matplotlib inline\n",
    "\n",
    "import ROOT\n",
    "import matplotlib.pyplot as plt\n",
    "import numpy as np\n",
    "from scipy import special as sp\n",
    "import matplotlib.mlab as mlab\n",
    "import math\n",
    "from prettytable import PrettyTable"
   ]
  },
  {
   "cell_type": "markdown",
   "metadata": {},
   "source": [
    "## Two-tailed $p$-value"
   ]
  },
  {
   "cell_type": "markdown",
   "metadata": {},
   "source": [
    "As for the two-tailed Gaussian,  \n",
    "$\\displaystyle p(x) = P(\\left|X\\right| \\geq x) = 1-\\text{erf}\\left(\\frac{x}{\\sqrt{2}\\sigma}\\right) \\equiv \\text{erfc}\\left(\\frac{x}{\\sqrt{2}\\sigma}\\right)$,  \n",
    "it is seen that for $x=n \\sigma$, then"
   ]
  },
  {
   "cell_type": "markdown",
   "metadata": {},
   "source": [
    "$\\displaystyle p(n \\sigma) = P(\\left|X\\right| \\geq n \\sigma) = 1-\\text{erf}\\left(\\frac{n}{\\sqrt{2}}\\right)$,"
   ]
  },
  {
   "cell_type": "markdown",
   "metadata": {},
   "source": [
    "thus,"
   ]
  },
  {
   "cell_type": "markdown",
   "metadata": {},
   "source": [
    "$\\displaystyle \\text{erf}\\left(\\frac{n}{\\sqrt{2}}\\right) = 1 - p(n \\sigma)$."
   ]
  },
  {
   "cell_type": "code",
   "execution_count": null,
   "metadata": {
    "collapsed": false
   },
   "outputs": [],
   "source": [
    "mean = 0\n",
    "sigma = 1\n",
    "nsigma = 1\n",
    "x = np.linspace(-5,5,100)\n",
    "plt.plot(x,mlab.normpdf(x,mean,sigma),color='black')\n",
    "\n",
    "xlTail = np.linspace(-5,-nsigma)\n",
    "xrTail = np.linspace(nsigma,5)\n",
    "plt.fill_between(xlTail,0,mlab.normpdf(xlTail,mean,sigma),facecolor='red')\n",
    "plt.fill_between(xrTail,0,mlab.normpdf(xrTail,mean,sigma),facecolor='red')\n",
    "\n",
    "plt.show()"
   ]
  },
  {
   "cell_type": "markdown",
   "metadata": {},
   "source": [
    "However, at this point we are at an impass analytically, as a Gaussian integral evaluated at bounds that are not $\\pm \\infty$ has no analytic solution, and must be evaluated numerically.  \n",
    "  \n",
    "So using erfc,"
   ]
  },
  {
   "cell_type": "code",
   "execution_count": null,
   "metadata": {
    "collapsed": false
   },
   "outputs": [],
   "source": [
    "pvalues = [0.10, 0.05, 0.01]\n",
    "\n",
    "for p in pvalues:\n",
    "    print(\"{} standard deviations corresponds to a p-value of {}\".format(math.sqrt(2.)*sp.erfcinv(p),p))"
   ]
  },
  {
   "cell_type": "markdown",
   "metadata": {},
   "source": [
    "and using erf,"
   ]
  },
  {
   "cell_type": "code",
   "execution_count": null,
   "metadata": {
    "collapsed": false
   },
   "outputs": [],
   "source": [
    "for p in pvalues:\n",
    "    print(\"{} standard deviations corresponds to a p-value of {}\".format(math.sqrt(2.)*sp.erfinv(1-p),p))"
   ]
  },
  {
   "cell_type": "markdown",
   "metadata": {},
   "source": [
    "the same output is found (as required by the defintion of the functions)."
   ]
  },
  {
   "cell_type": "markdown",
   "metadata": {},
   "source": [
    "## One-tailed $p$-value"
   ]
  },
  {
   "cell_type": "markdown",
   "metadata": {},
   "source": [
    "As a one-sided $p$-value considers the probability for the data to have produced a value as extreme or grearer than the observed value on only one side of the distribution --- $\\displaystyle P\\left(X \\geq x\\right) = 1-\\Phi(x)$ for the right tail, or $\\displaystyle P\\left(X \\leq -x\\right) = \\Phi(-x)$ for the left tail --- it is seen by symmetry that for a normalized Gaussian a one-tailed $p$-vaule is $1/2$ that of a two-tailed $p$-value."
   ]
  },
  {
   "cell_type": "markdown",
   "metadata": {},
   "source": [
    "\\begin{split}\n",
    "    p(x) = P\\left(X \\geq \\left|x\\right|\\right)&= 1 - \\frac{1}{\\sqrt{2\\pi}}\\int\\limits_{-\\infty}^{x} e^{-t^2/2}\\,dt = 1 - \\frac{1}{2}\\left(1+\\text{erf}\\left(\\frac{x}{\\sqrt{2}}\\right)\\right)\\\\\n",
    "    &= 1-\\Phi(x)\\\\\n",
    "    &= \\frac{1}{2}\\left(1-\\text{erf}\\left(\\frac{x}{\\sqrt{2}}\\right)\\right) = \\frac{1}{2}\\text{erfc}\\left(\\frac{x}{\\sqrt{2}}\\right)\n",
    "\\end{split}"
   ]
  },
  {
   "cell_type": "code",
   "execution_count": null,
   "metadata": {
    "collapsed": false
   },
   "outputs": [],
   "source": [
    "plt.plot(x,mlab.normpdf(x,mean,sigma),color='black')\n",
    "plt.fill_between(xrTail,0,mlab.normpdf(xrTail,mean,sigma),facecolor='red')\n",
    "\n",
    "plt.show()"
   ]
  },
  {
   "cell_type": "markdown",
   "metadata": {},
   "source": [
    "thus for $x = n \\sigma$,"
   ]
  },
  {
   "cell_type": "markdown",
   "metadata": {},
   "source": [
    "$\\displaystyle \\text{erf}\\left(\\frac{n\\sigma}{\\sqrt{2}}\\right) = 1 - 2\\,p(n \\sigma)$."
   ]
  },
  {
   "cell_type": "code",
   "execution_count": null,
   "metadata": {
    "collapsed": false
   },
   "outputs": [],
   "source": [
    "for p in pvalues:\n",
    "    print(\"{} standard deviations corresponds to a p-value of {}\".format((math.sqrt(2.)/sigma)*sp.erfcinv(2*p),p))\n",
    "\n",
    "print(\"\")\n",
    "    \n",
    "for p in pvalues:    \n",
    "    print(\"{} standard deviations corresponds to a p-value of {}\".format((math.sqrt(2.)/sigma)*sp.erfinv(1-2*p),p))"
   ]
  },
  {
   "cell_type": "markdown",
   "metadata": {},
   "source": [
    "## Summary"
   ]
  },
  {
   "cell_type": "code",
   "execution_count": null,
   "metadata": {
    "collapsed": false
   },
   "outputs": [],
   "source": [
    "# this needs to be turned into a loop of some sort\n",
    "t = PrettyTable()\n",
    "t.field_names = [\"p-values\", \"n sigma 2-tailed\", \"n sigma 1-tailed\"]\n",
    "t.add_row([pvalues[0], math.sqrt(2.)*sp.erfcinv(pvalues[0]), (math.sqrt(2.)/sigma)*sp.erfcinv(2*pvalues[0])])\n",
    "t.add_row([pvalues[1], math.sqrt(2.)*sp.erfcinv(pvalues[1]), (math.sqrt(2.)/sigma)*sp.erfcinv(2*pvalues[1])])\n",
    "t.add_row([pvalues[2], math.sqrt(2.)*sp.erfcinv(pvalues[2]), (math.sqrt(2.)/sigma)*sp.erfcinv(2*pvalues[2])])\n",
    "\n",
    "print(t)"
   ]
  },
  {
   "cell_type": "markdown",
   "metadata": {},
   "source": [
    "### Sanity Check"
   ]
  },
  {
   "cell_type": "code",
   "execution_count": null,
   "metadata": {
    "collapsed": false
   },
   "outputs": [],
   "source": [
    "checkvalues = [0.317310507863, 0.045500263896, 0.002699796063, 0.000063342484, 0.000000573303]\n",
    "\n",
    "for p in checkvalues:\n",
    "    print(\"{:0.3f} standard deviations corresponds to a p-value of {}\".format(math.sqrt(2.)*sp.erfcinv(p),p))"
   ]
  },
  {
   "cell_type": "markdown",
   "metadata": {},
   "source": [
    "$\\checkmark$"
   ]
  },
  {
   "cell_type": "markdown",
   "metadata": {},
   "source": [
    "## References"
   ]
  },
  {
   "cell_type": "markdown",
   "metadata": {},
   "source": [
    "1.) FAQ: What are the differences between one-tailed and two-tailed tests?  \n",
    "UCLA: Institute for Digital Research and Education.  \n",
    "from http://www.ats.ucla.edu/stat/mult_pkg/faq/general/tail_tests.htm"
   ]
  }
 ],
 "metadata": {
  "kernelspec": {
   "display_name": "Python 2",
   "language": "python",
   "name": "python2"
  },
  "language_info": {
   "codemirror_mode": {
    "name": "ipython",
    "version": 2
   },
   "file_extension": ".py",
   "mimetype": "text/x-python",
   "name": "python",
   "nbconvert_exporter": "python",
   "pygments_lexer": "ipython2",
   "version": "2.7.11"
  }
 },
 "nbformat": 4,
 "nbformat_minor": 0
}
